{
 "cells": [
  {
   "cell_type": "code",
   "execution_count": 5,
   "metadata": {},
   "outputs": [
    {
     "name": "stdout",
     "output_type": "stream",
     "text": [
      "Invalid operator\n",
      "Invalid operator\n",
      "10 * 6 = 60\n"
     ]
    }
   ],
   "source": [
    "a = int(input(\"Enter a number for a: \"))\n",
    "op = input(\"Enter an operator: \")\n",
    "while op not in ['~', '+', '-', '*', '/', '%', '**', '//', '&', '|', '^', '<<', '>>']:\n",
    "    print(\"Invalid operator\")\n",
    "    op = input(\"Enter a valid operator: \")\n",
    "if op != '~':\n",
    " b = int(input(\"Enter a number for b: \"))\n",
    "\n",
    "match op:\n",
    "    case '+':\n",
    "        c = f\"{a} + {b} = {a + b}\"\n",
    "        print(c)\n",
    "    case '-':    \n",
    "        c = f\"{a} - {b} = {a - b}\"\n",
    "        print(c)\n",
    "    case '*':\n",
    "        c = f\"{a} * {b} = {a * b}\"\n",
    "        print(c)\n",
    "    case '/':\n",
    "        c = f\"{a} / {b} = {a / b}\"\n",
    "        print(c)\n",
    "    case '%':\n",
    "        c = f\"{a} % {b} (a mod b) = {a % b}\"\n",
    "        print(c)\n",
    "    case '**':\n",
    "        c = f\"{a} ** {b} (a power b) = {a ** b}\"\n",
    "        print(c)    \n",
    "    case '//':\n",
    "        c = f\"{a} // {b} (a floor division b) = {a // b}\"\n",
    "        print(c)\n",
    "    case '&':\n",
    "        c = f\"{a} & {b} (a bitwise and b) = {a & b}\"\n",
    "        print(c)    \n",
    "    case '|':\n",
    "        c = f\"{a} | {b} (a bitwise or b) = {a | b}\"\n",
    "        print(c)\n",
    "    case '^':\n",
    "        c = f\"{a} ^ {b} (a bitwise xor b) = {a ^ b}\"\n",
    "        print(c)\n",
    "    case '<<':\n",
    "        c = f\"{a} << {b} (a left shift b) = {a << b}\"\n",
    "        print(c)\n",
    "    case '>>':\n",
    "        c = f\"{a} >> {b} (a right shift b) = {a >> b}\"\n",
    "        print(c)\n",
    "    case '~':\n",
    "        c = f\"~{a} = {~a}\"\n",
    "        print(c)    \n",
    "    case _:\n",
    "        print( \"Invalid operator\" )    "
   ]
  }
 ],
 "metadata": {
  "kernelspec": {
   "display_name": "base",
   "language": "python",
   "name": "python3"
  },
  "language_info": {
   "codemirror_mode": {
    "name": "ipython",
    "version": 3
   },
   "file_extension": ".py",
   "mimetype": "text/x-python",
   "name": "python",
   "nbconvert_exporter": "python",
   "pygments_lexer": "ipython3",
   "version": "3.11.4"
  }
 },
 "nbformat": 4,
 "nbformat_minor": 2
}
